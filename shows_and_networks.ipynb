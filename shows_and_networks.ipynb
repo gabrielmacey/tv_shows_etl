{
 "cells": [
  {
   "cell_type": "code",
   "execution_count": null,
   "metadata": {},
   "outputs": [],
   "source": [
    "import pandas as pd\n",
    "from sqlalchemy import create_engine\n",
    "from password import password"
   ]
  },
  {
   "cell_type": "code",
   "execution_count": null,
   "metadata": {},
   "outputs": [],
   "source": [
    "netflix_df = pd.read_csv('netflix_titles.csv')\n",
    "netflix_df.head()"
   ]
  },
  {
   "cell_type": "code",
   "execution_count": null,
   "metadata": {},
   "outputs": [],
   "source": [
    "netflix_df.fillna('Unknown', inplace=True)\n",
    "netflix_df.rename(columns = {\"release_year\": \"year\",\n",
    "                             \"listed_in\": \"genre\",\n",
    "                             \"rating\": \"age_of_viewers\",\n",
    "                            \"show_id\": \"id\",\n",
    "                            \"cast\": \"actors\"}, inplace=True)\n",
    "netflix_df = netflix_df.loc[netflix_df['type']== \"TV Show\"]\n",
    "netflix_df.drop(\"date_added\", axis=1, inplace=True)\n",
    "netflix_df.head()"
   ]
  },
  {
   "cell_type": "code",
   "execution_count": null,
   "metadata": {},
   "outputs": [],
   "source": [
    "netflix_shows_df = pd.read_csv('shows-netflix.csv')\n",
    "netflix_shows_df.head()"
   ]
  },
  {
   "cell_type": "code",
   "execution_count": null,
   "metadata": {},
   "outputs": [],
   "source": [
    "netflix_shows_df.rename(columns = {\"Titles\": \"title\",\n",
    "                                   \"Year\": \"year\",\n",
    "                                   \"Rating\": \"age_of_viewer\",\n",
    "                                   \"IMDB_Rating\": \"imdb_rating\",\n",
    "                                  \"Netflix\": \"netflix\"}, inplace = True)\n",
    "netflix_shows_df.head()"
   ]
  },
  {
   "cell_type": "code",
   "execution_count": null,
   "metadata": {},
   "outputs": [],
   "source": [
    "all_tv_df = pd.read_csv('tv_shows_all.csv')\n",
    "all_tv_df.head()"
   ]
  },
  {
   "cell_type": "code",
   "execution_count": null,
   "metadata": {},
   "outputs": [],
   "source": [
    "all_tv_df.fillna('Unknown', inplace=True)\n",
    "all_tv_df.rename(columns= {\"Unnamed: 0\": \"id\",\n",
    "                             \"Title\": \"title\",\n",
    "                             \"Year\": \"year\",\n",
    "                             \"Age\": \"age_of_viewer\",\n",
    "                             \"IMDb\": \"imdb_rating\",\n",
    "                             \"Rotten Tomatoes\": \"rotten_tomatoes\",\n",
    "                             \"Netflix\": \"netflix\",\n",
    "                             \"Hulu\": \"hulu\",\n",
    "                             \"Prime Video\": \"prime_video\",\n",
    "                             \"Disney+\": \"disney\"}, inplace=True)\n",
    "all_tv_df.drop(\"type\", axis=1, inplace=True)"
   ]
  },
  {
   "cell_type": "code",
   "execution_count": null,
   "metadata": {},
   "outputs": [],
   "source": [
    "all_tv_df.head()"
   ]
  },
  {
   "cell_type": "code",
   "execution_count": null,
   "metadata": {},
   "outputs": [],
   "source": [
    "amazon_file = \"Amazon_prime.csv\"\n",
    "amazon_df = pd.read_csv(amazon_file,encoding = \"ISO-8859-1\")\n",
    "amazon_df.head()"
   ]
  },
  {
   "cell_type": "code",
   "execution_count": null,
   "metadata": {},
   "outputs": [],
   "source": [
    "amazon_df.fillna('Unknown',inplace=True)\n",
    "amazon_df.head()"
   ]
  },
  {
   "cell_type": "code",
   "execution_count": null,
   "metadata": {},
   "outputs": [],
   "source": [
    "amazon_df=amazon_df.loc[amazon_df['Name of the show']!= 'Unknown']\n",
    "amazon_df=amazon_df.rename(columns={\"S.no.\":\"id\",\"Name of the show\":\"title\",\"Year of release\":\"year\",\n",
    "                                    \"No of seasons available\":\"seasons_available\",\"Language\":\"language\",\"Genre\":\"genre\",\n",
    "                                    \"IMDb rating\":\"imdb_rating\",\"Age of viewers\":\"age_of_viewer\"})\n",
    "amazon_df.head()"
   ]
  },
  {
   "cell_type": "code",
   "execution_count": null,
   "metadata": {},
   "outputs": [],
   "source": [
    "rds_connection_string = \"postgres:********@localhost:5432/tv_shows_db\"\n",
    "engine = create_engine(f'postgresql://{rds_connection_string}')"
   ]
  },
  {
   "cell_type": "code",
   "execution_count": null,
   "metadata": {},
   "outputs": [],
   "source": [
    "engine.table_names()"
   ]
  },
  {
   "cell_type": "code",
   "execution_count": null,
   "metadata": {},
   "outputs": [],
   "source": [
    "netflix_df.to_sql(name='netflix', con=engine, if_exists='append', index=False)"
   ]
  },
  {
   "cell_type": "code",
   "execution_count": null,
   "metadata": {},
   "outputs": [],
   "source": [
    "all_tv_df.to_sql(name='all_tv', con=engine, if_exists='append', index=False)"
   ]
  },
  {
   "cell_type": "code",
   "execution_count": null,
   "metadata": {},
   "outputs": [],
   "source": [
    "netflix_shows_df.to_sql(name='netflix_show', con=engine, if_exists='append', index=False)"
   ]
  },
  {
   "cell_type": "code",
   "execution_count": null,
   "metadata": {},
   "outputs": [],
   "source": [
    "amazon_df.to_sql(name='amazon', con=engine, if_exists='append', index=False)"
   ]
  },
  {
   "cell_type": "code",
   "execution_count": null,
   "metadata": {},
   "outputs": [],
   "source": []
  }
 ],
 "metadata": {
  "kernelspec": {
   "display_name": "Python 3",
   "language": "python",
   "name": "python3"
  },
  "language_info": {
   "codemirror_mode": {
    "name": "ipython",
    "version": 3
   },
   "file_extension": ".py",
   "mimetype": "text/x-python",
   "name": "python",
   "nbconvert_exporter": "python",
   "pygments_lexer": "ipython3",
   "version": "3.6.5"
  }
 },
 "nbformat": 4,
 "nbformat_minor": 2
}
